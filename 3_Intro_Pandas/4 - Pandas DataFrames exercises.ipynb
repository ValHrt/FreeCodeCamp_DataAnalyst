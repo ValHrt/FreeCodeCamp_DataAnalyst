{
 "cells": [
  {
   "cell_type": "markdown",
   "metadata": {
    "pycharm": {
     "name": "#%% md\n"
    }
   },
   "source": [
    "![rmotr](https://user-images.githubusercontent.com/7065401/52071918-bda15380-2562-11e9-828c-7f95297e4a82.png)\n",
    "<hr style=\"margin-bottom: 40px;\">\n",
    "\n",
    "# Pandas DataFrame exercises\n"
   ]
  },
  {
   "cell_type": "code",
   "execution_count": 1,
   "metadata": {
    "pycharm": {
     "name": "#%%\n"
    }
   },
   "outputs": [
    {
     "name": "stdout",
     "output_type": "stream",
     "text": [
      "1.3.4\n"
     ]
    }
   ],
   "source": [
    "# Import the numpy package under the name np\n",
    "import numpy as np\n",
    "\n",
    "# Import the pandas package under the name pd\n",
    "import pandas as pd\n",
    "\n",
    "# Import the matplotlib package under the name plt\n",
    "import matplotlib.pyplot as plt\n",
    "%matplotlib inline\n",
    "\n",
    "# Print the pandas version and the configuration\n",
    "print(pd.__version__)"
   ]
  },
  {
   "cell_type": "markdown",
   "metadata": {
    "pycharm": {
     "name": "#%% md\n"
    }
   },
   "source": [
    "![purple-divider](https://user-images.githubusercontent.com/7065401/52071927-c1cd7100-2562-11e9-908a-dde91ba14e59.png)\n",
    "\n",
    "## DataFrame creation"
   ]
  },
  {
   "cell_type": "markdown",
   "metadata": {
    "pycharm": {
     "name": "#%% md\n"
    }
   },
   "source": [
    "### Create an empty pandas DataFrame\n"
   ]
  },
  {
   "cell_type": "code",
   "execution_count": 2,
   "metadata": {
    "pycharm": {
     "name": "#%%\n"
    }
   },
   "outputs": [
    {
     "data": {
      "text/plain": "      NaN\nNaN  None",
      "text/html": "<div>\n<style scoped>\n    .dataframe tbody tr th:only-of-type {\n        vertical-align: middle;\n    }\n\n    .dataframe tbody tr th {\n        vertical-align: top;\n    }\n\n    .dataframe thead th {\n        text-align: right;\n    }\n</style>\n<table border=\"1\" class=\"dataframe\">\n  <thead>\n    <tr style=\"text-align: right;\">\n      <th></th>\n      <th>NaN</th>\n    </tr>\n  </thead>\n  <tbody>\n    <tr>\n      <th>NaN</th>\n      <td>None</td>\n    </tr>\n  </tbody>\n</table>\n</div>"
     },
     "execution_count": 2,
     "metadata": {},
     "output_type": "execute_result"
    }
   ],
   "source": [
    "# your code goes here\n",
    "pd.DataFrame(data=[None],\n",
    "             index=[None],\n",
    "             columns=[None])"
   ]
  },
  {
   "cell_type": "markdown",
   "metadata": {
    "pycharm": {
     "name": "#%% md\n"
    }
   },
   "source": [
    "<img width=400 src=\"https://cdn.dribbble.com/users/4678/screenshots/1986600/avengers.png\"></img>"
   ]
  },
  {
   "cell_type": "markdown",
   "metadata": {
    "pycharm": {
     "name": "#%% md\n"
    }
   },
   "source": [
    "![green-divider](https://user-images.githubusercontent.com/7065401/52071924-c003ad80-2562-11e9-8297-1c6595f8a7ff.png)\n",
    "\n",
    "### Create a `marvel_df` pandas DataFrame with the given marvel data\n"
   ]
  },
  {
   "cell_type": "code",
   "execution_count": 3,
   "metadata": {
    "pycharm": {
     "name": "#%%\n"
    }
   },
   "outputs": [],
   "source": [
    "marvel_data = [\n",
    "    ['Spider-Man', 'male', 1962],\n",
    "    ['Captain America', 'male', 1941],\n",
    "    ['Wolverine', 'male', 1974],\n",
    "    ['Iron Man', 'male', 1963],\n",
    "    ['Thor', 'male', 1963],\n",
    "    ['Thing', 'male', 1961],\n",
    "    ['Mister Fantastic', 'male', 1961],\n",
    "    ['Hulk', 'male', 1962],\n",
    "    ['Beast', 'male', 1963],\n",
    "    ['Invisible Woman', 'female', 1961],\n",
    "    ['Storm', 'female', 1975],\n",
    "    ['Namor', 'male', 1939],\n",
    "    ['Hawkeye', 'male', 1964],\n",
    "    ['Daredevil', 'male', 1964],\n",
    "    ['Doctor Strange', 'male', 1963],\n",
    "    ['Hank Pym', 'male', 1962],\n",
    "    ['Scarlet Witch', 'female', 1964],\n",
    "    ['Wasp', 'female', 1963],\n",
    "    ['Black Widow', 'female', 1964],\n",
    "    ['Vision', 'male', 1968]\n",
    "]"
   ]
  },
  {
   "cell_type": "code",
   "execution_count": 5,
   "metadata": {
    "pycharm": {
     "name": "#%%\n"
    }
   },
   "outputs": [
    {
     "data": {
      "text/plain": "                   0       1     2\n0         Spider-Man    male  1962\n1    Captain America    male  1941\n2          Wolverine    male  1974\n3           Iron Man    male  1963\n4               Thor    male  1963\n5              Thing    male  1961\n6   Mister Fantastic    male  1961\n7               Hulk    male  1962\n8              Beast    male  1963\n9    Invisible Woman  female  1961\n10             Storm  female  1975\n11             Namor    male  1939\n12           Hawkeye    male  1964\n13         Daredevil    male  1964\n14    Doctor Strange    male  1963\n15          Hank Pym    male  1962\n16     Scarlet Witch  female  1964\n17              Wasp  female  1963\n18       Black Widow  female  1964\n19            Vision    male  1968",
      "text/html": "<div>\n<style scoped>\n    .dataframe tbody tr th:only-of-type {\n        vertical-align: middle;\n    }\n\n    .dataframe tbody tr th {\n        vertical-align: top;\n    }\n\n    .dataframe thead th {\n        text-align: right;\n    }\n</style>\n<table border=\"1\" class=\"dataframe\">\n  <thead>\n    <tr style=\"text-align: right;\">\n      <th></th>\n      <th>0</th>\n      <th>1</th>\n      <th>2</th>\n    </tr>\n  </thead>\n  <tbody>\n    <tr>\n      <th>0</th>\n      <td>Spider-Man</td>\n      <td>male</td>\n      <td>1962</td>\n    </tr>\n    <tr>\n      <th>1</th>\n      <td>Captain America</td>\n      <td>male</td>\n      <td>1941</td>\n    </tr>\n    <tr>\n      <th>2</th>\n      <td>Wolverine</td>\n      <td>male</td>\n      <td>1974</td>\n    </tr>\n    <tr>\n      <th>3</th>\n      <td>Iron Man</td>\n      <td>male</td>\n      <td>1963</td>\n    </tr>\n    <tr>\n      <th>4</th>\n      <td>Thor</td>\n      <td>male</td>\n      <td>1963</td>\n    </tr>\n    <tr>\n      <th>5</th>\n      <td>Thing</td>\n      <td>male</td>\n      <td>1961</td>\n    </tr>\n    <tr>\n      <th>6</th>\n      <td>Mister Fantastic</td>\n      <td>male</td>\n      <td>1961</td>\n    </tr>\n    <tr>\n      <th>7</th>\n      <td>Hulk</td>\n      <td>male</td>\n      <td>1962</td>\n    </tr>\n    <tr>\n      <th>8</th>\n      <td>Beast</td>\n      <td>male</td>\n      <td>1963</td>\n    </tr>\n    <tr>\n      <th>9</th>\n      <td>Invisible Woman</td>\n      <td>female</td>\n      <td>1961</td>\n    </tr>\n    <tr>\n      <th>10</th>\n      <td>Storm</td>\n      <td>female</td>\n      <td>1975</td>\n    </tr>\n    <tr>\n      <th>11</th>\n      <td>Namor</td>\n      <td>male</td>\n      <td>1939</td>\n    </tr>\n    <tr>\n      <th>12</th>\n      <td>Hawkeye</td>\n      <td>male</td>\n      <td>1964</td>\n    </tr>\n    <tr>\n      <th>13</th>\n      <td>Daredevil</td>\n      <td>male</td>\n      <td>1964</td>\n    </tr>\n    <tr>\n      <th>14</th>\n      <td>Doctor Strange</td>\n      <td>male</td>\n      <td>1963</td>\n    </tr>\n    <tr>\n      <th>15</th>\n      <td>Hank Pym</td>\n      <td>male</td>\n      <td>1962</td>\n    </tr>\n    <tr>\n      <th>16</th>\n      <td>Scarlet Witch</td>\n      <td>female</td>\n      <td>1964</td>\n    </tr>\n    <tr>\n      <th>17</th>\n      <td>Wasp</td>\n      <td>female</td>\n      <td>1963</td>\n    </tr>\n    <tr>\n      <th>18</th>\n      <td>Black Widow</td>\n      <td>female</td>\n      <td>1964</td>\n    </tr>\n    <tr>\n      <th>19</th>\n      <td>Vision</td>\n      <td>male</td>\n      <td>1968</td>\n    </tr>\n  </tbody>\n</table>\n</div>"
     },
     "execution_count": 5,
     "metadata": {},
     "output_type": "execute_result"
    }
   ],
   "source": [
    "# your code goes here\n",
    "marvel_df = pd.DataFrame(data=marvel_data)\n",
    "marvel_df"
   ]
  },
  {
   "cell_type": "markdown",
   "metadata": {
    "pycharm": {
     "name": "#%% md\n"
    }
   },
   "source": [
    "![green-divider](https://user-images.githubusercontent.com/7065401/52071924-c003ad80-2562-11e9-8297-1c6595f8a7ff.png)\n",
    "\n",
    "### Add column names to the `marvel_df`\n",
    " "
   ]
  },
  {
   "cell_type": "code",
   "execution_count": 6,
   "metadata": {
    "pycharm": {
     "name": "#%%\n"
    }
   },
   "outputs": [
    {
     "data": {
      "text/plain": "                name     sex  first_appearance\n0         Spider-Man    male              1962\n1    Captain America    male              1941\n2          Wolverine    male              1974\n3           Iron Man    male              1963\n4               Thor    male              1963\n5              Thing    male              1961\n6   Mister Fantastic    male              1961\n7               Hulk    male              1962\n8              Beast    male              1963\n9    Invisible Woman  female              1961\n10             Storm  female              1975\n11             Namor    male              1939\n12           Hawkeye    male              1964\n13         Daredevil    male              1964\n14    Doctor Strange    male              1963\n15          Hank Pym    male              1962\n16     Scarlet Witch  female              1964\n17              Wasp  female              1963\n18       Black Widow  female              1964\n19            Vision    male              1968",
      "text/html": "<div>\n<style scoped>\n    .dataframe tbody tr th:only-of-type {\n        vertical-align: middle;\n    }\n\n    .dataframe tbody tr th {\n        vertical-align: top;\n    }\n\n    .dataframe thead th {\n        text-align: right;\n    }\n</style>\n<table border=\"1\" class=\"dataframe\">\n  <thead>\n    <tr style=\"text-align: right;\">\n      <th></th>\n      <th>name</th>\n      <th>sex</th>\n      <th>first_appearance</th>\n    </tr>\n  </thead>\n  <tbody>\n    <tr>\n      <th>0</th>\n      <td>Spider-Man</td>\n      <td>male</td>\n      <td>1962</td>\n    </tr>\n    <tr>\n      <th>1</th>\n      <td>Captain America</td>\n      <td>male</td>\n      <td>1941</td>\n    </tr>\n    <tr>\n      <th>2</th>\n      <td>Wolverine</td>\n      <td>male</td>\n      <td>1974</td>\n    </tr>\n    <tr>\n      <th>3</th>\n      <td>Iron Man</td>\n      <td>male</td>\n      <td>1963</td>\n    </tr>\n    <tr>\n      <th>4</th>\n      <td>Thor</td>\n      <td>male</td>\n      <td>1963</td>\n    </tr>\n    <tr>\n      <th>5</th>\n      <td>Thing</td>\n      <td>male</td>\n      <td>1961</td>\n    </tr>\n    <tr>\n      <th>6</th>\n      <td>Mister Fantastic</td>\n      <td>male</td>\n      <td>1961</td>\n    </tr>\n    <tr>\n      <th>7</th>\n      <td>Hulk</td>\n      <td>male</td>\n      <td>1962</td>\n    </tr>\n    <tr>\n      <th>8</th>\n      <td>Beast</td>\n      <td>male</td>\n      <td>1963</td>\n    </tr>\n    <tr>\n      <th>9</th>\n      <td>Invisible Woman</td>\n      <td>female</td>\n      <td>1961</td>\n    </tr>\n    <tr>\n      <th>10</th>\n      <td>Storm</td>\n      <td>female</td>\n      <td>1975</td>\n    </tr>\n    <tr>\n      <th>11</th>\n      <td>Namor</td>\n      <td>male</td>\n      <td>1939</td>\n    </tr>\n    <tr>\n      <th>12</th>\n      <td>Hawkeye</td>\n      <td>male</td>\n      <td>1964</td>\n    </tr>\n    <tr>\n      <th>13</th>\n      <td>Daredevil</td>\n      <td>male</td>\n      <td>1964</td>\n    </tr>\n    <tr>\n      <th>14</th>\n      <td>Doctor Strange</td>\n      <td>male</td>\n      <td>1963</td>\n    </tr>\n    <tr>\n      <th>15</th>\n      <td>Hank Pym</td>\n      <td>male</td>\n      <td>1962</td>\n    </tr>\n    <tr>\n      <th>16</th>\n      <td>Scarlet Witch</td>\n      <td>female</td>\n      <td>1964</td>\n    </tr>\n    <tr>\n      <th>17</th>\n      <td>Wasp</td>\n      <td>female</td>\n      <td>1963</td>\n    </tr>\n    <tr>\n      <th>18</th>\n      <td>Black Widow</td>\n      <td>female</td>\n      <td>1964</td>\n    </tr>\n    <tr>\n      <th>19</th>\n      <td>Vision</td>\n      <td>male</td>\n      <td>1968</td>\n    </tr>\n  </tbody>\n</table>\n</div>"
     },
     "execution_count": 6,
     "metadata": {},
     "output_type": "execute_result"
    }
   ],
   "source": [
    "# your code goes here\n",
    "col_names = ['name', 'sex', 'first_appearance']\n",
    "marvel_df.columns = col_names\n",
    "marvel_df"
   ]
  },
  {
   "cell_type": "markdown",
   "metadata": {
    "pycharm": {
     "name": "#%% md\n"
    }
   },
   "source": [
    "![green-divider](https://user-images.githubusercontent.com/7065401/52071924-c003ad80-2562-11e9-8297-1c6595f8a7ff.png)\n",
    "\n",
    "### Add index names to the `marvel_df` (use the character name as index)\n"
   ]
  },
  {
   "cell_type": "code",
   "execution_count": 7,
   "metadata": {
    "pycharm": {
     "name": "#%%\n"
    }
   },
   "outputs": [
    {
     "data": {
      "text/plain": "                              name     sex  first_appearance\nname                                                        \nSpider-Man              Spider-Man    male              1962\nCaptain America    Captain America    male              1941\nWolverine                Wolverine    male              1974\nIron Man                  Iron Man    male              1963\nThor                          Thor    male              1963\nThing                        Thing    male              1961\nMister Fantastic  Mister Fantastic    male              1961\nHulk                          Hulk    male              1962\nBeast                        Beast    male              1963\nInvisible Woman    Invisible Woman  female              1961\nStorm                        Storm  female              1975\nNamor                        Namor    male              1939\nHawkeye                    Hawkeye    male              1964\nDaredevil                Daredevil    male              1964\nDoctor Strange      Doctor Strange    male              1963\nHank Pym                  Hank Pym    male              1962\nScarlet Witch        Scarlet Witch  female              1964\nWasp                          Wasp  female              1963\nBlack Widow            Black Widow  female              1964\nVision                      Vision    male              1968",
      "text/html": "<div>\n<style scoped>\n    .dataframe tbody tr th:only-of-type {\n        vertical-align: middle;\n    }\n\n    .dataframe tbody tr th {\n        vertical-align: top;\n    }\n\n    .dataframe thead th {\n        text-align: right;\n    }\n</style>\n<table border=\"1\" class=\"dataframe\">\n  <thead>\n    <tr style=\"text-align: right;\">\n      <th></th>\n      <th>name</th>\n      <th>sex</th>\n      <th>first_appearance</th>\n    </tr>\n    <tr>\n      <th>name</th>\n      <th></th>\n      <th></th>\n      <th></th>\n    </tr>\n  </thead>\n  <tbody>\n    <tr>\n      <th>Spider-Man</th>\n      <td>Spider-Man</td>\n      <td>male</td>\n      <td>1962</td>\n    </tr>\n    <tr>\n      <th>Captain America</th>\n      <td>Captain America</td>\n      <td>male</td>\n      <td>1941</td>\n    </tr>\n    <tr>\n      <th>Wolverine</th>\n      <td>Wolverine</td>\n      <td>male</td>\n      <td>1974</td>\n    </tr>\n    <tr>\n      <th>Iron Man</th>\n      <td>Iron Man</td>\n      <td>male</td>\n      <td>1963</td>\n    </tr>\n    <tr>\n      <th>Thor</th>\n      <td>Thor</td>\n      <td>male</td>\n      <td>1963</td>\n    </tr>\n    <tr>\n      <th>Thing</th>\n      <td>Thing</td>\n      <td>male</td>\n      <td>1961</td>\n    </tr>\n    <tr>\n      <th>Mister Fantastic</th>\n      <td>Mister Fantastic</td>\n      <td>male</td>\n      <td>1961</td>\n    </tr>\n    <tr>\n      <th>Hulk</th>\n      <td>Hulk</td>\n      <td>male</td>\n      <td>1962</td>\n    </tr>\n    <tr>\n      <th>Beast</th>\n      <td>Beast</td>\n      <td>male</td>\n      <td>1963</td>\n    </tr>\n    <tr>\n      <th>Invisible Woman</th>\n      <td>Invisible Woman</td>\n      <td>female</td>\n      <td>1961</td>\n    </tr>\n    <tr>\n      <th>Storm</th>\n      <td>Storm</td>\n      <td>female</td>\n      <td>1975</td>\n    </tr>\n    <tr>\n      <th>Namor</th>\n      <td>Namor</td>\n      <td>male</td>\n      <td>1939</td>\n    </tr>\n    <tr>\n      <th>Hawkeye</th>\n      <td>Hawkeye</td>\n      <td>male</td>\n      <td>1964</td>\n    </tr>\n    <tr>\n      <th>Daredevil</th>\n      <td>Daredevil</td>\n      <td>male</td>\n      <td>1964</td>\n    </tr>\n    <tr>\n      <th>Doctor Strange</th>\n      <td>Doctor Strange</td>\n      <td>male</td>\n      <td>1963</td>\n    </tr>\n    <tr>\n      <th>Hank Pym</th>\n      <td>Hank Pym</td>\n      <td>male</td>\n      <td>1962</td>\n    </tr>\n    <tr>\n      <th>Scarlet Witch</th>\n      <td>Scarlet Witch</td>\n      <td>female</td>\n      <td>1964</td>\n    </tr>\n    <tr>\n      <th>Wasp</th>\n      <td>Wasp</td>\n      <td>female</td>\n      <td>1963</td>\n    </tr>\n    <tr>\n      <th>Black Widow</th>\n      <td>Black Widow</td>\n      <td>female</td>\n      <td>1964</td>\n    </tr>\n    <tr>\n      <th>Vision</th>\n      <td>Vision</td>\n      <td>male</td>\n      <td>1968</td>\n    </tr>\n  </tbody>\n</table>\n</div>"
     },
     "execution_count": 7,
     "metadata": {},
     "output_type": "execute_result"
    }
   ],
   "source": [
    "# your code goes here\n",
    "marvel_df.index = marvel_df['name']\n",
    "marvel_df"
   ]
  },
  {
   "cell_type": "markdown",
   "metadata": {
    "pycharm": {
     "name": "#%% md\n"
    }
   },
   "source": [
    "![green-divider](https://user-images.githubusercontent.com/7065401/52071924-c003ad80-2562-11e9-8297-1c6595f8a7ff.png)\n",
    "\n",
    "### Drop the name column as it's now the index"
   ]
  },
  {
   "cell_type": "code",
   "execution_count": 9,
   "metadata": {
    "pycharm": {
     "name": "#%%\n"
    }
   },
   "outputs": [
    {
     "data": {
      "text/plain": "                     sex  first_appearance\nname                                      \nSpider-Man          male              1962\nCaptain America     male              1941\nWolverine           male              1974\nIron Man            male              1963\nThor                male              1963\nThing               male              1961\nMister Fantastic    male              1961\nHulk                male              1962\nBeast               male              1963\nInvisible Woman   female              1961\nStorm             female              1975\nNamor               male              1939\nHawkeye             male              1964\nDaredevil           male              1964\nDoctor Strange      male              1963\nHank Pym            male              1962\nScarlet Witch     female              1964\nWasp              female              1963\nBlack Widow       female              1964\nVision              male              1968",
      "text/html": "<div>\n<style scoped>\n    .dataframe tbody tr th:only-of-type {\n        vertical-align: middle;\n    }\n\n    .dataframe tbody tr th {\n        vertical-align: top;\n    }\n\n    .dataframe thead th {\n        text-align: right;\n    }\n</style>\n<table border=\"1\" class=\"dataframe\">\n  <thead>\n    <tr style=\"text-align: right;\">\n      <th></th>\n      <th>sex</th>\n      <th>first_appearance</th>\n    </tr>\n    <tr>\n      <th>name</th>\n      <th></th>\n      <th></th>\n    </tr>\n  </thead>\n  <tbody>\n    <tr>\n      <th>Spider-Man</th>\n      <td>male</td>\n      <td>1962</td>\n    </tr>\n    <tr>\n      <th>Captain America</th>\n      <td>male</td>\n      <td>1941</td>\n    </tr>\n    <tr>\n      <th>Wolverine</th>\n      <td>male</td>\n      <td>1974</td>\n    </tr>\n    <tr>\n      <th>Iron Man</th>\n      <td>male</td>\n      <td>1963</td>\n    </tr>\n    <tr>\n      <th>Thor</th>\n      <td>male</td>\n      <td>1963</td>\n    </tr>\n    <tr>\n      <th>Thing</th>\n      <td>male</td>\n      <td>1961</td>\n    </tr>\n    <tr>\n      <th>Mister Fantastic</th>\n      <td>male</td>\n      <td>1961</td>\n    </tr>\n    <tr>\n      <th>Hulk</th>\n      <td>male</td>\n      <td>1962</td>\n    </tr>\n    <tr>\n      <th>Beast</th>\n      <td>male</td>\n      <td>1963</td>\n    </tr>\n    <tr>\n      <th>Invisible Woman</th>\n      <td>female</td>\n      <td>1961</td>\n    </tr>\n    <tr>\n      <th>Storm</th>\n      <td>female</td>\n      <td>1975</td>\n    </tr>\n    <tr>\n      <th>Namor</th>\n      <td>male</td>\n      <td>1939</td>\n    </tr>\n    <tr>\n      <th>Hawkeye</th>\n      <td>male</td>\n      <td>1964</td>\n    </tr>\n    <tr>\n      <th>Daredevil</th>\n      <td>male</td>\n      <td>1964</td>\n    </tr>\n    <tr>\n      <th>Doctor Strange</th>\n      <td>male</td>\n      <td>1963</td>\n    </tr>\n    <tr>\n      <th>Hank Pym</th>\n      <td>male</td>\n      <td>1962</td>\n    </tr>\n    <tr>\n      <th>Scarlet Witch</th>\n      <td>female</td>\n      <td>1964</td>\n    </tr>\n    <tr>\n      <th>Wasp</th>\n      <td>female</td>\n      <td>1963</td>\n    </tr>\n    <tr>\n      <th>Black Widow</th>\n      <td>female</td>\n      <td>1964</td>\n    </tr>\n    <tr>\n      <th>Vision</th>\n      <td>male</td>\n      <td>1968</td>\n    </tr>\n  </tbody>\n</table>\n</div>"
     },
     "execution_count": 9,
     "metadata": {},
     "output_type": "execute_result"
    }
   ],
   "source": [
    "# your code goes here\n",
    "marvel_df.drop(['name'], axis=1, inplace=True)\n",
    "marvel_df"
   ]
  },
  {
   "cell_type": "markdown",
   "metadata": {
    "pycharm": {
     "name": "#%% md\n"
    }
   },
   "source": [
    "![green-divider](https://user-images.githubusercontent.com/7065401/52071924-c003ad80-2562-11e9-8297-1c6595f8a7ff.png)\n",
    "\n",
    "### Drop 'Namor' and 'Hank Pym' rows\n"
   ]
  },
  {
   "cell_type": "code",
   "execution_count": 10,
   "metadata": {
    "pycharm": {
     "name": "#%%\n"
    }
   },
   "outputs": [
    {
     "data": {
      "text/plain": "                     sex  first_appearance\nname                                      \nSpider-Man          male              1962\nCaptain America     male              1941\nWolverine           male              1974\nIron Man            male              1963\nThor                male              1963\nThing               male              1961\nMister Fantastic    male              1961\nHulk                male              1962\nBeast               male              1963\nInvisible Woman   female              1961\nStorm             female              1975\nHawkeye             male              1964\nDaredevil           male              1964\nDoctor Strange      male              1963\nScarlet Witch     female              1964\nWasp              female              1963\nBlack Widow       female              1964\nVision              male              1968",
      "text/html": "<div>\n<style scoped>\n    .dataframe tbody tr th:only-of-type {\n        vertical-align: middle;\n    }\n\n    .dataframe tbody tr th {\n        vertical-align: top;\n    }\n\n    .dataframe thead th {\n        text-align: right;\n    }\n</style>\n<table border=\"1\" class=\"dataframe\">\n  <thead>\n    <tr style=\"text-align: right;\">\n      <th></th>\n      <th>sex</th>\n      <th>first_appearance</th>\n    </tr>\n    <tr>\n      <th>name</th>\n      <th></th>\n      <th></th>\n    </tr>\n  </thead>\n  <tbody>\n    <tr>\n      <th>Spider-Man</th>\n      <td>male</td>\n      <td>1962</td>\n    </tr>\n    <tr>\n      <th>Captain America</th>\n      <td>male</td>\n      <td>1941</td>\n    </tr>\n    <tr>\n      <th>Wolverine</th>\n      <td>male</td>\n      <td>1974</td>\n    </tr>\n    <tr>\n      <th>Iron Man</th>\n      <td>male</td>\n      <td>1963</td>\n    </tr>\n    <tr>\n      <th>Thor</th>\n      <td>male</td>\n      <td>1963</td>\n    </tr>\n    <tr>\n      <th>Thing</th>\n      <td>male</td>\n      <td>1961</td>\n    </tr>\n    <tr>\n      <th>Mister Fantastic</th>\n      <td>male</td>\n      <td>1961</td>\n    </tr>\n    <tr>\n      <th>Hulk</th>\n      <td>male</td>\n      <td>1962</td>\n    </tr>\n    <tr>\n      <th>Beast</th>\n      <td>male</td>\n      <td>1963</td>\n    </tr>\n    <tr>\n      <th>Invisible Woman</th>\n      <td>female</td>\n      <td>1961</td>\n    </tr>\n    <tr>\n      <th>Storm</th>\n      <td>female</td>\n      <td>1975</td>\n    </tr>\n    <tr>\n      <th>Hawkeye</th>\n      <td>male</td>\n      <td>1964</td>\n    </tr>\n    <tr>\n      <th>Daredevil</th>\n      <td>male</td>\n      <td>1964</td>\n    </tr>\n    <tr>\n      <th>Doctor Strange</th>\n      <td>male</td>\n      <td>1963</td>\n    </tr>\n    <tr>\n      <th>Scarlet Witch</th>\n      <td>female</td>\n      <td>1964</td>\n    </tr>\n    <tr>\n      <th>Wasp</th>\n      <td>female</td>\n      <td>1963</td>\n    </tr>\n    <tr>\n      <th>Black Widow</th>\n      <td>female</td>\n      <td>1964</td>\n    </tr>\n    <tr>\n      <th>Vision</th>\n      <td>male</td>\n      <td>1968</td>\n    </tr>\n  </tbody>\n</table>\n</div>"
     },
     "execution_count": 10,
     "metadata": {},
     "output_type": "execute_result"
    }
   ],
   "source": [
    "# your code goes here\n",
    "marvel_df.drop(['Namor', 'Hank Pym'], axis=0, inplace=True)\n",
    "marvel_df"
   ]
  },
  {
   "cell_type": "markdown",
   "metadata": {
    "pycharm": {
     "name": "#%% md\n"
    }
   },
   "source": [
    "![purple-divider](https://user-images.githubusercontent.com/7065401/52071927-c1cd7100-2562-11e9-908a-dde91ba14e59.png)\n",
    "\n",
    "## DataFrame selection, slicing and indexation"
   ]
  },
  {
   "cell_type": "markdown",
   "metadata": {
    "pycharm": {
     "name": "#%% md\n"
    }
   },
   "source": [
    "### Show the first 5 elements on `marvel_df`\n",
    " "
   ]
  },
  {
   "cell_type": "code",
   "execution_count": 11,
   "metadata": {
    "pycharm": {
     "name": "#%%\n"
    }
   },
   "outputs": [
    {
     "data": {
      "text/plain": "                  sex  first_appearance\nname                                   \nSpider-Man       male              1962\nCaptain America  male              1941\nWolverine        male              1974\nIron Man         male              1963\nThor             male              1963",
      "text/html": "<div>\n<style scoped>\n    .dataframe tbody tr th:only-of-type {\n        vertical-align: middle;\n    }\n\n    .dataframe tbody tr th {\n        vertical-align: top;\n    }\n\n    .dataframe thead th {\n        text-align: right;\n    }\n</style>\n<table border=\"1\" class=\"dataframe\">\n  <thead>\n    <tr style=\"text-align: right;\">\n      <th></th>\n      <th>sex</th>\n      <th>first_appearance</th>\n    </tr>\n    <tr>\n      <th>name</th>\n      <th></th>\n      <th></th>\n    </tr>\n  </thead>\n  <tbody>\n    <tr>\n      <th>Spider-Man</th>\n      <td>male</td>\n      <td>1962</td>\n    </tr>\n    <tr>\n      <th>Captain America</th>\n      <td>male</td>\n      <td>1941</td>\n    </tr>\n    <tr>\n      <th>Wolverine</th>\n      <td>male</td>\n      <td>1974</td>\n    </tr>\n    <tr>\n      <th>Iron Man</th>\n      <td>male</td>\n      <td>1963</td>\n    </tr>\n    <tr>\n      <th>Thor</th>\n      <td>male</td>\n      <td>1963</td>\n    </tr>\n  </tbody>\n</table>\n</div>"
     },
     "execution_count": 11,
     "metadata": {},
     "output_type": "execute_result"
    }
   ],
   "source": [
    "# your code goes here\n",
    "marvel_df.head(5)"
   ]
  },
  {
   "cell_type": "markdown",
   "metadata": {
    "pycharm": {
     "name": "#%% md\n"
    }
   },
   "source": [
    "![green-divider](https://user-images.githubusercontent.com/7065401/52071924-c003ad80-2562-11e9-8297-1c6595f8a7ff.png)\n",
    "\n",
    "### Show the last 5 elements on `marvel_df`\n"
   ]
  },
  {
   "cell_type": "code",
   "execution_count": 12,
   "metadata": {
    "pycharm": {
     "name": "#%%\n"
    }
   },
   "outputs": [
    {
     "data": {
      "text/plain": "                   sex  first_appearance\nname                                    \nDoctor Strange    male              1963\nScarlet Witch   female              1964\nWasp            female              1963\nBlack Widow     female              1964\nVision            male              1968",
      "text/html": "<div>\n<style scoped>\n    .dataframe tbody tr th:only-of-type {\n        vertical-align: middle;\n    }\n\n    .dataframe tbody tr th {\n        vertical-align: top;\n    }\n\n    .dataframe thead th {\n        text-align: right;\n    }\n</style>\n<table border=\"1\" class=\"dataframe\">\n  <thead>\n    <tr style=\"text-align: right;\">\n      <th></th>\n      <th>sex</th>\n      <th>first_appearance</th>\n    </tr>\n    <tr>\n      <th>name</th>\n      <th></th>\n      <th></th>\n    </tr>\n  </thead>\n  <tbody>\n    <tr>\n      <th>Doctor Strange</th>\n      <td>male</td>\n      <td>1963</td>\n    </tr>\n    <tr>\n      <th>Scarlet Witch</th>\n      <td>female</td>\n      <td>1964</td>\n    </tr>\n    <tr>\n      <th>Wasp</th>\n      <td>female</td>\n      <td>1963</td>\n    </tr>\n    <tr>\n      <th>Black Widow</th>\n      <td>female</td>\n      <td>1964</td>\n    </tr>\n    <tr>\n      <th>Vision</th>\n      <td>male</td>\n      <td>1968</td>\n    </tr>\n  </tbody>\n</table>\n</div>"
     },
     "execution_count": 12,
     "metadata": {},
     "output_type": "execute_result"
    }
   ],
   "source": [
    "# your code goes here\n",
    "marvel_df.tail(5)"
   ]
  },
  {
   "cell_type": "markdown",
   "metadata": {
    "pycharm": {
     "name": "#%% md\n"
    }
   },
   "source": [
    "![green-divider](https://user-images.githubusercontent.com/7065401/52071924-c003ad80-2562-11e9-8297-1c6595f8a7ff.png)\n",
    "\n",
    "### Show just the sex of the first 5 elements on `marvel_df`"
   ]
  },
  {
   "cell_type": "code",
   "execution_count": 21,
   "metadata": {
    "pycharm": {
     "name": "#%%\n"
    }
   },
   "outputs": [
    {
     "data": {
      "text/plain": "                  sex\nname                 \nSpider-Man       male\nCaptain America  male\nWolverine        male\nIron Man         male\nThor             male",
      "text/html": "<div>\n<style scoped>\n    .dataframe tbody tr th:only-of-type {\n        vertical-align: middle;\n    }\n\n    .dataframe tbody tr th {\n        vertical-align: top;\n    }\n\n    .dataframe thead th {\n        text-align: right;\n    }\n</style>\n<table border=\"1\" class=\"dataframe\">\n  <thead>\n    <tr style=\"text-align: right;\">\n      <th></th>\n      <th>sex</th>\n    </tr>\n    <tr>\n      <th>name</th>\n      <th></th>\n    </tr>\n  </thead>\n  <tbody>\n    <tr>\n      <th>Spider-Man</th>\n      <td>male</td>\n    </tr>\n    <tr>\n      <th>Captain America</th>\n      <td>male</td>\n    </tr>\n    <tr>\n      <th>Wolverine</th>\n      <td>male</td>\n    </tr>\n    <tr>\n      <th>Iron Man</th>\n      <td>male</td>\n    </tr>\n    <tr>\n      <th>Thor</th>\n      <td>male</td>\n    </tr>\n  </tbody>\n</table>\n</div>"
     },
     "execution_count": 21,
     "metadata": {},
     "output_type": "execute_result"
    }
   ],
   "source": [
    "# your code goes here\n",
    "marvel_df.head(5)['sex'].to_frame()"
   ]
  },
  {
   "cell_type": "markdown",
   "metadata": {
    "pycharm": {
     "name": "#%% md\n"
    }
   },
   "source": [
    "![green-divider](https://user-images.githubusercontent.com/7065401/52071924-c003ad80-2562-11e9-8297-1c6595f8a7ff.png)\n",
    "\n",
    "### Show the first_appearance of all middle elements on `marvel_df` "
   ]
  },
  {
   "cell_type": "code",
   "execution_count": 22,
   "metadata": {
    "pycharm": {
     "name": "#%%\n"
    }
   },
   "outputs": [
    {
     "data": {
      "text/plain": "                  first_appearance\nname                              \nCaptain America               1941\nWolverine                     1974\nIron Man                      1963\nThor                          1963\nThing                         1961\nMister Fantastic              1961\nHulk                          1962\nBeast                         1963\nInvisible Woman               1961\nStorm                         1975\nHawkeye                       1964\nDaredevil                     1964\nDoctor Strange                1963\nScarlet Witch                 1964\nWasp                          1963\nBlack Widow                   1964",
      "text/html": "<div>\n<style scoped>\n    .dataframe tbody tr th:only-of-type {\n        vertical-align: middle;\n    }\n\n    .dataframe tbody tr th {\n        vertical-align: top;\n    }\n\n    .dataframe thead th {\n        text-align: right;\n    }\n</style>\n<table border=\"1\" class=\"dataframe\">\n  <thead>\n    <tr style=\"text-align: right;\">\n      <th></th>\n      <th>first_appearance</th>\n    </tr>\n    <tr>\n      <th>name</th>\n      <th></th>\n    </tr>\n  </thead>\n  <tbody>\n    <tr>\n      <th>Captain America</th>\n      <td>1941</td>\n    </tr>\n    <tr>\n      <th>Wolverine</th>\n      <td>1974</td>\n    </tr>\n    <tr>\n      <th>Iron Man</th>\n      <td>1963</td>\n    </tr>\n    <tr>\n      <th>Thor</th>\n      <td>1963</td>\n    </tr>\n    <tr>\n      <th>Thing</th>\n      <td>1961</td>\n    </tr>\n    <tr>\n      <th>Mister Fantastic</th>\n      <td>1961</td>\n    </tr>\n    <tr>\n      <th>Hulk</th>\n      <td>1962</td>\n    </tr>\n    <tr>\n      <th>Beast</th>\n      <td>1963</td>\n    </tr>\n    <tr>\n      <th>Invisible Woman</th>\n      <td>1961</td>\n    </tr>\n    <tr>\n      <th>Storm</th>\n      <td>1975</td>\n    </tr>\n    <tr>\n      <th>Hawkeye</th>\n      <td>1964</td>\n    </tr>\n    <tr>\n      <th>Daredevil</th>\n      <td>1964</td>\n    </tr>\n    <tr>\n      <th>Doctor Strange</th>\n      <td>1963</td>\n    </tr>\n    <tr>\n      <th>Scarlet Witch</th>\n      <td>1964</td>\n    </tr>\n    <tr>\n      <th>Wasp</th>\n      <td>1963</td>\n    </tr>\n    <tr>\n      <th>Black Widow</th>\n      <td>1964</td>\n    </tr>\n  </tbody>\n</table>\n</div>"
     },
     "execution_count": 22,
     "metadata": {},
     "output_type": "execute_result"
    }
   ],
   "source": [
    "# your code goes here\n",
    "marvel_df.iloc[1:-1]['first_appearance'].to_frame()"
   ]
  },
  {
   "cell_type": "markdown",
   "metadata": {
    "pycharm": {
     "name": "#%% md\n"
    }
   },
   "source": [
    "![green-divider](https://user-images.githubusercontent.com/7065401/52071924-c003ad80-2562-11e9-8297-1c6595f8a7ff.png)\n",
    "\n",
    "### Show the first and last elements on `marvel_df`\n"
   ]
  },
  {
   "cell_type": "code",
   "execution_count": 24,
   "metadata": {
    "pycharm": {
     "name": "#%%\n"
    }
   },
   "outputs": [
    {
     "data": {
      "text/plain": "             sex  first_appearance\nname                              \nSpider-Man  male              1962\nVision      male              1968",
      "text/html": "<div>\n<style scoped>\n    .dataframe tbody tr th:only-of-type {\n        vertical-align: middle;\n    }\n\n    .dataframe tbody tr th {\n        vertical-align: top;\n    }\n\n    .dataframe thead th {\n        text-align: right;\n    }\n</style>\n<table border=\"1\" class=\"dataframe\">\n  <thead>\n    <tr style=\"text-align: right;\">\n      <th></th>\n      <th>sex</th>\n      <th>first_appearance</th>\n    </tr>\n    <tr>\n      <th>name</th>\n      <th></th>\n      <th></th>\n    </tr>\n  </thead>\n  <tbody>\n    <tr>\n      <th>Spider-Man</th>\n      <td>male</td>\n      <td>1962</td>\n    </tr>\n    <tr>\n      <th>Vision</th>\n      <td>male</td>\n      <td>1968</td>\n    </tr>\n  </tbody>\n</table>\n</div>"
     },
     "execution_count": 24,
     "metadata": {},
     "output_type": "execute_result"
    }
   ],
   "source": [
    "# your code goes here\n",
    "marvel_df.iloc[[0, -1]]"
   ]
  },
  {
   "cell_type": "markdown",
   "metadata": {
    "pycharm": {
     "name": "#%% md\n"
    }
   },
   "source": [
    "![purple-divider](https://user-images.githubusercontent.com/7065401/52071927-c1cd7100-2562-11e9-908a-dde91ba14e59.png)\n",
    "\n",
    "## DataFrame manipulation and operations"
   ]
  },
  {
   "cell_type": "markdown",
   "metadata": {
    "pycharm": {
     "name": "#%% md\n"
    }
   },
   "source": [
    "### Modify the `first_appearance` of 'Vision' to year 1964"
   ]
  },
  {
   "cell_type": "code",
   "execution_count": 28,
   "metadata": {
    "pycharm": {
     "name": "#%%\n"
    }
   },
   "outputs": [
    {
     "data": {
      "text/plain": "                     sex  first_appearance\nname                                      \nSpider-Man          male              1962\nCaptain America     male              1941\nWolverine           male              1974\nIron Man            male              1963\nThor                male              1963\nThing               male              1961\nMister Fantastic    male              1961\nHulk                male              1962\nBeast               male              1963\nInvisible Woman   female              1961\nStorm             female              1975\nHawkeye             male              1964\nDaredevil           male              1964\nDoctor Strange      male              1963\nScarlet Witch     female              1964\nWasp              female              1963\nBlack Widow       female              1964\nVision              male              1964",
      "text/html": "<div>\n<style scoped>\n    .dataframe tbody tr th:only-of-type {\n        vertical-align: middle;\n    }\n\n    .dataframe tbody tr th {\n        vertical-align: top;\n    }\n\n    .dataframe thead th {\n        text-align: right;\n    }\n</style>\n<table border=\"1\" class=\"dataframe\">\n  <thead>\n    <tr style=\"text-align: right;\">\n      <th></th>\n      <th>sex</th>\n      <th>first_appearance</th>\n    </tr>\n    <tr>\n      <th>name</th>\n      <th></th>\n      <th></th>\n    </tr>\n  </thead>\n  <tbody>\n    <tr>\n      <th>Spider-Man</th>\n      <td>male</td>\n      <td>1962</td>\n    </tr>\n    <tr>\n      <th>Captain America</th>\n      <td>male</td>\n      <td>1941</td>\n    </tr>\n    <tr>\n      <th>Wolverine</th>\n      <td>male</td>\n      <td>1974</td>\n    </tr>\n    <tr>\n      <th>Iron Man</th>\n      <td>male</td>\n      <td>1963</td>\n    </tr>\n    <tr>\n      <th>Thor</th>\n      <td>male</td>\n      <td>1963</td>\n    </tr>\n    <tr>\n      <th>Thing</th>\n      <td>male</td>\n      <td>1961</td>\n    </tr>\n    <tr>\n      <th>Mister Fantastic</th>\n      <td>male</td>\n      <td>1961</td>\n    </tr>\n    <tr>\n      <th>Hulk</th>\n      <td>male</td>\n      <td>1962</td>\n    </tr>\n    <tr>\n      <th>Beast</th>\n      <td>male</td>\n      <td>1963</td>\n    </tr>\n    <tr>\n      <th>Invisible Woman</th>\n      <td>female</td>\n      <td>1961</td>\n    </tr>\n    <tr>\n      <th>Storm</th>\n      <td>female</td>\n      <td>1975</td>\n    </tr>\n    <tr>\n      <th>Hawkeye</th>\n      <td>male</td>\n      <td>1964</td>\n    </tr>\n    <tr>\n      <th>Daredevil</th>\n      <td>male</td>\n      <td>1964</td>\n    </tr>\n    <tr>\n      <th>Doctor Strange</th>\n      <td>male</td>\n      <td>1963</td>\n    </tr>\n    <tr>\n      <th>Scarlet Witch</th>\n      <td>female</td>\n      <td>1964</td>\n    </tr>\n    <tr>\n      <th>Wasp</th>\n      <td>female</td>\n      <td>1963</td>\n    </tr>\n    <tr>\n      <th>Black Widow</th>\n      <td>female</td>\n      <td>1964</td>\n    </tr>\n    <tr>\n      <th>Vision</th>\n      <td>male</td>\n      <td>1964</td>\n    </tr>\n  </tbody>\n</table>\n</div>"
     },
     "execution_count": 28,
     "metadata": {},
     "output_type": "execute_result"
    }
   ],
   "source": [
    "# your code goes here\n",
    "marvel_df.loc['Vision', 'first_appearance'] = 1964\n",
    "\n",
    "marvel_df"
   ]
  },
  {
   "cell_type": "markdown",
   "metadata": {
    "pycharm": {
     "name": "#%% md\n"
    }
   },
   "source": [
    "![green-divider](https://user-images.githubusercontent.com/7065401/52071924-c003ad80-2562-11e9-8297-1c6595f8a7ff.png)\n",
    "\n",
    "### Add a new column to `marvel_df` called 'years_since' with the years since `first_appearance`\n"
   ]
  },
  {
   "cell_type": "code",
   "execution_count": 29,
   "metadata": {
    "pycharm": {
     "name": "#%%\n"
    }
   },
   "outputs": [
    {
     "data": {
      "text/plain": "                     sex  first_appearance  years_since\nname                                                   \nSpider-Man          male              1962           61\nCaptain America     male              1941           82\nWolverine           male              1974           49\nIron Man            male              1963           60\nThor                male              1963           60\nThing               male              1961           62\nMister Fantastic    male              1961           62\nHulk                male              1962           61\nBeast               male              1963           60\nInvisible Woman   female              1961           62\nStorm             female              1975           48\nHawkeye             male              1964           59\nDaredevil           male              1964           59\nDoctor Strange      male              1963           60\nScarlet Witch     female              1964           59\nWasp              female              1963           60\nBlack Widow       female              1964           59\nVision              male              1964           59",
      "text/html": "<div>\n<style scoped>\n    .dataframe tbody tr th:only-of-type {\n        vertical-align: middle;\n    }\n\n    .dataframe tbody tr th {\n        vertical-align: top;\n    }\n\n    .dataframe thead th {\n        text-align: right;\n    }\n</style>\n<table border=\"1\" class=\"dataframe\">\n  <thead>\n    <tr style=\"text-align: right;\">\n      <th></th>\n      <th>sex</th>\n      <th>first_appearance</th>\n      <th>years_since</th>\n    </tr>\n    <tr>\n      <th>name</th>\n      <th></th>\n      <th></th>\n      <th></th>\n    </tr>\n  </thead>\n  <tbody>\n    <tr>\n      <th>Spider-Man</th>\n      <td>male</td>\n      <td>1962</td>\n      <td>61</td>\n    </tr>\n    <tr>\n      <th>Captain America</th>\n      <td>male</td>\n      <td>1941</td>\n      <td>82</td>\n    </tr>\n    <tr>\n      <th>Wolverine</th>\n      <td>male</td>\n      <td>1974</td>\n      <td>49</td>\n    </tr>\n    <tr>\n      <th>Iron Man</th>\n      <td>male</td>\n      <td>1963</td>\n      <td>60</td>\n    </tr>\n    <tr>\n      <th>Thor</th>\n      <td>male</td>\n      <td>1963</td>\n      <td>60</td>\n    </tr>\n    <tr>\n      <th>Thing</th>\n      <td>male</td>\n      <td>1961</td>\n      <td>62</td>\n    </tr>\n    <tr>\n      <th>Mister Fantastic</th>\n      <td>male</td>\n      <td>1961</td>\n      <td>62</td>\n    </tr>\n    <tr>\n      <th>Hulk</th>\n      <td>male</td>\n      <td>1962</td>\n      <td>61</td>\n    </tr>\n    <tr>\n      <th>Beast</th>\n      <td>male</td>\n      <td>1963</td>\n      <td>60</td>\n    </tr>\n    <tr>\n      <th>Invisible Woman</th>\n      <td>female</td>\n      <td>1961</td>\n      <td>62</td>\n    </tr>\n    <tr>\n      <th>Storm</th>\n      <td>female</td>\n      <td>1975</td>\n      <td>48</td>\n    </tr>\n    <tr>\n      <th>Hawkeye</th>\n      <td>male</td>\n      <td>1964</td>\n      <td>59</td>\n    </tr>\n    <tr>\n      <th>Daredevil</th>\n      <td>male</td>\n      <td>1964</td>\n      <td>59</td>\n    </tr>\n    <tr>\n      <th>Doctor Strange</th>\n      <td>male</td>\n      <td>1963</td>\n      <td>60</td>\n    </tr>\n    <tr>\n      <th>Scarlet Witch</th>\n      <td>female</td>\n      <td>1964</td>\n      <td>59</td>\n    </tr>\n    <tr>\n      <th>Wasp</th>\n      <td>female</td>\n      <td>1963</td>\n      <td>60</td>\n    </tr>\n    <tr>\n      <th>Black Widow</th>\n      <td>female</td>\n      <td>1964</td>\n      <td>59</td>\n    </tr>\n    <tr>\n      <th>Vision</th>\n      <td>male</td>\n      <td>1964</td>\n      <td>59</td>\n    </tr>\n  </tbody>\n</table>\n</div>"
     },
     "execution_count": 29,
     "metadata": {},
     "output_type": "execute_result"
    }
   ],
   "source": [
    "# your code goes here\n",
    "marvel_df['years_since'] = 2023 - marvel_df['first_appearance']\n",
    "marvel_df"
   ]
  },
  {
   "cell_type": "markdown",
   "metadata": {
    "pycharm": {
     "name": "#%% md\n"
    }
   },
   "source": [
    "![purple-divider](https://user-images.githubusercontent.com/7065401/52071927-c1cd7100-2562-11e9-908a-dde91ba14e59.png)\n",
    "\n",
    "## DataFrame boolean arrays (also called masks)"
   ]
  },
  {
   "cell_type": "markdown",
   "metadata": {
    "pycharm": {
     "name": "#%% md\n"
    }
   },
   "source": [
    "### Given the `marvel_df` pandas DataFrame, make a mask showing the female characters\n"
   ]
  },
  {
   "cell_type": "code",
   "execution_count": 30,
   "metadata": {
    "pycharm": {
     "name": "#%%\n"
    }
   },
   "outputs": [
    {
     "data": {
      "text/plain": "name\nSpider-Man          False\nCaptain America     False\nWolverine           False\nIron Man            False\nThor                False\nThing               False\nMister Fantastic    False\nHulk                False\nBeast               False\nInvisible Woman      True\nStorm                True\nHawkeye             False\nDaredevil           False\nDoctor Strange      False\nScarlet Witch        True\nWasp                 True\nBlack Widow          True\nVision              False\nName: sex, dtype: bool"
     },
     "execution_count": 30,
     "metadata": {},
     "output_type": "execute_result"
    }
   ],
   "source": [
    "# your code goes here\n",
    "mask = marvel_df['sex'] == 'female'\n",
    "mask"
   ]
  },
  {
   "cell_type": "markdown",
   "metadata": {
    "pycharm": {
     "name": "#%% md\n"
    }
   },
   "source": [
    "![green-divider](https://user-images.githubusercontent.com/7065401/52071924-c003ad80-2562-11e9-8297-1c6595f8a7ff.png)\n",
    "\n",
    "### Given the `marvel_df` pandas DataFrame, get the male characters\n"
   ]
  },
  {
   "cell_type": "code",
   "execution_count": 31,
   "metadata": {
    "pycharm": {
     "name": "#%%\n"
    }
   },
   "outputs": [
    {
     "data": {
      "text/plain": "                   sex  first_appearance  years_since\nname                                                 \nSpider-Man        male              1962           61\nCaptain America   male              1941           82\nWolverine         male              1974           49\nIron Man          male              1963           60\nThor              male              1963           60\nThing             male              1961           62\nMister Fantastic  male              1961           62\nHulk              male              1962           61\nBeast             male              1963           60\nHawkeye           male              1964           59\nDaredevil         male              1964           59\nDoctor Strange    male              1963           60\nVision            male              1964           59",
      "text/html": "<div>\n<style scoped>\n    .dataframe tbody tr th:only-of-type {\n        vertical-align: middle;\n    }\n\n    .dataframe tbody tr th {\n        vertical-align: top;\n    }\n\n    .dataframe thead th {\n        text-align: right;\n    }\n</style>\n<table border=\"1\" class=\"dataframe\">\n  <thead>\n    <tr style=\"text-align: right;\">\n      <th></th>\n      <th>sex</th>\n      <th>first_appearance</th>\n      <th>years_since</th>\n    </tr>\n    <tr>\n      <th>name</th>\n      <th></th>\n      <th></th>\n      <th></th>\n    </tr>\n  </thead>\n  <tbody>\n    <tr>\n      <th>Spider-Man</th>\n      <td>male</td>\n      <td>1962</td>\n      <td>61</td>\n    </tr>\n    <tr>\n      <th>Captain America</th>\n      <td>male</td>\n      <td>1941</td>\n      <td>82</td>\n    </tr>\n    <tr>\n      <th>Wolverine</th>\n      <td>male</td>\n      <td>1974</td>\n      <td>49</td>\n    </tr>\n    <tr>\n      <th>Iron Man</th>\n      <td>male</td>\n      <td>1963</td>\n      <td>60</td>\n    </tr>\n    <tr>\n      <th>Thor</th>\n      <td>male</td>\n      <td>1963</td>\n      <td>60</td>\n    </tr>\n    <tr>\n      <th>Thing</th>\n      <td>male</td>\n      <td>1961</td>\n      <td>62</td>\n    </tr>\n    <tr>\n      <th>Mister Fantastic</th>\n      <td>male</td>\n      <td>1961</td>\n      <td>62</td>\n    </tr>\n    <tr>\n      <th>Hulk</th>\n      <td>male</td>\n      <td>1962</td>\n      <td>61</td>\n    </tr>\n    <tr>\n      <th>Beast</th>\n      <td>male</td>\n      <td>1963</td>\n      <td>60</td>\n    </tr>\n    <tr>\n      <th>Hawkeye</th>\n      <td>male</td>\n      <td>1964</td>\n      <td>59</td>\n    </tr>\n    <tr>\n      <th>Daredevil</th>\n      <td>male</td>\n      <td>1964</td>\n      <td>59</td>\n    </tr>\n    <tr>\n      <th>Doctor Strange</th>\n      <td>male</td>\n      <td>1963</td>\n      <td>60</td>\n    </tr>\n    <tr>\n      <th>Vision</th>\n      <td>male</td>\n      <td>1964</td>\n      <td>59</td>\n    </tr>\n  </tbody>\n</table>\n</div>"
     },
     "execution_count": 31,
     "metadata": {},
     "output_type": "execute_result"
    }
   ],
   "source": [
    "# your code goes here\n",
    "marvel_df[marvel_df['sex'] == 'male']"
   ]
  },
  {
   "cell_type": "markdown",
   "metadata": {
    "pycharm": {
     "name": "#%% md\n"
    }
   },
   "source": [
    "![green-divider](https://user-images.githubusercontent.com/7065401/52071924-c003ad80-2562-11e9-8297-1c6595f8a7ff.png)\n",
    "\n",
    "### Given the `marvel_df` pandas DataFrame, get the characters with `first_appearance` after 1970\n"
   ]
  },
  {
   "cell_type": "code",
   "execution_count": 32,
   "metadata": {
    "pycharm": {
     "name": "#%%\n"
    }
   },
   "outputs": [
    {
     "data": {
      "text/plain": "              sex  first_appearance  years_since\nname                                            \nWolverine    male              1974           49\nStorm      female              1975           48",
      "text/html": "<div>\n<style scoped>\n    .dataframe tbody tr th:only-of-type {\n        vertical-align: middle;\n    }\n\n    .dataframe tbody tr th {\n        vertical-align: top;\n    }\n\n    .dataframe thead th {\n        text-align: right;\n    }\n</style>\n<table border=\"1\" class=\"dataframe\">\n  <thead>\n    <tr style=\"text-align: right;\">\n      <th></th>\n      <th>sex</th>\n      <th>first_appearance</th>\n      <th>years_since</th>\n    </tr>\n    <tr>\n      <th>name</th>\n      <th></th>\n      <th></th>\n      <th></th>\n    </tr>\n  </thead>\n  <tbody>\n    <tr>\n      <th>Wolverine</th>\n      <td>male</td>\n      <td>1974</td>\n      <td>49</td>\n    </tr>\n    <tr>\n      <th>Storm</th>\n      <td>female</td>\n      <td>1975</td>\n      <td>48</td>\n    </tr>\n  </tbody>\n</table>\n</div>"
     },
     "execution_count": 32,
     "metadata": {},
     "output_type": "execute_result"
    }
   ],
   "source": [
    "# your code goes here\n",
    "marvel_df[marvel_df['first_appearance'] > 1970]"
   ]
  },
  {
   "cell_type": "markdown",
   "metadata": {
    "pycharm": {
     "name": "#%% md\n"
    }
   },
   "source": [
    "![green-divider](https://user-images.githubusercontent.com/7065401/52071924-c003ad80-2562-11e9-8297-1c6595f8a7ff.png)\n",
    "\n",
    "### Given the `marvel_df` pandas DataFrame, get the female characters with `first_appearance` after 1970"
   ]
  },
  {
   "cell_type": "code",
   "execution_count": 33,
   "metadata": {
    "pycharm": {
     "name": "#%%\n"
    }
   },
   "outputs": [
    {
     "data": {
      "text/plain": "          sex  first_appearance  years_since\nname                                        \nStorm  female              1975           48",
      "text/html": "<div>\n<style scoped>\n    .dataframe tbody tr th:only-of-type {\n        vertical-align: middle;\n    }\n\n    .dataframe tbody tr th {\n        vertical-align: top;\n    }\n\n    .dataframe thead th {\n        text-align: right;\n    }\n</style>\n<table border=\"1\" class=\"dataframe\">\n  <thead>\n    <tr style=\"text-align: right;\">\n      <th></th>\n      <th>sex</th>\n      <th>first_appearance</th>\n      <th>years_since</th>\n    </tr>\n    <tr>\n      <th>name</th>\n      <th></th>\n      <th></th>\n      <th></th>\n    </tr>\n  </thead>\n  <tbody>\n    <tr>\n      <th>Storm</th>\n      <td>female</td>\n      <td>1975</td>\n      <td>48</td>\n    </tr>\n  </tbody>\n</table>\n</div>"
     },
     "execution_count": 33,
     "metadata": {},
     "output_type": "execute_result"
    }
   ],
   "source": [
    "# your code goes here\n",
    "marvel_df[(marvel_df['sex'] == 'female') & (marvel_df['first_appearance'] > 1970)]"
   ]
  },
  {
   "cell_type": "markdown",
   "metadata": {
    "pycharm": {
     "name": "#%% md\n"
    }
   },
   "source": [
    "![purple-divider](https://user-images.githubusercontent.com/7065401/52071927-c1cd7100-2562-11e9-908a-dde91ba14e59.png)\n",
    "\n",
    "## DataFrame summary statistics"
   ]
  },
  {
   "cell_type": "markdown",
   "metadata": {
    "pycharm": {
     "name": "#%% md\n"
    }
   },
   "source": [
    "### Show basic statistics of `marvel_df`"
   ]
  },
  {
   "cell_type": "code",
   "execution_count": 35,
   "metadata": {
    "pycharm": {
     "name": "#%%\n"
    }
   },
   "outputs": [
    {
     "data": {
      "text/plain": "       first_appearance  years_since\ncount         18.000000    18.000000\nmean        1962.888889    60.111111\nstd            6.720372     6.720372\nmin         1941.000000    48.000000\n25%         1962.000000    59.000000\n50%         1963.000000    60.000000\n75%         1964.000000    61.000000\nmax         1975.000000    82.000000",
      "text/html": "<div>\n<style scoped>\n    .dataframe tbody tr th:only-of-type {\n        vertical-align: middle;\n    }\n\n    .dataframe tbody tr th {\n        vertical-align: top;\n    }\n\n    .dataframe thead th {\n        text-align: right;\n    }\n</style>\n<table border=\"1\" class=\"dataframe\">\n  <thead>\n    <tr style=\"text-align: right;\">\n      <th></th>\n      <th>first_appearance</th>\n      <th>years_since</th>\n    </tr>\n  </thead>\n  <tbody>\n    <tr>\n      <th>count</th>\n      <td>18.000000</td>\n      <td>18.000000</td>\n    </tr>\n    <tr>\n      <th>mean</th>\n      <td>1962.888889</td>\n      <td>60.111111</td>\n    </tr>\n    <tr>\n      <th>std</th>\n      <td>6.720372</td>\n      <td>6.720372</td>\n    </tr>\n    <tr>\n      <th>min</th>\n      <td>1941.000000</td>\n      <td>48.000000</td>\n    </tr>\n    <tr>\n      <th>25%</th>\n      <td>1962.000000</td>\n      <td>59.000000</td>\n    </tr>\n    <tr>\n      <th>50%</th>\n      <td>1963.000000</td>\n      <td>60.000000</td>\n    </tr>\n    <tr>\n      <th>75%</th>\n      <td>1964.000000</td>\n      <td>61.000000</td>\n    </tr>\n    <tr>\n      <th>max</th>\n      <td>1975.000000</td>\n      <td>82.000000</td>\n    </tr>\n  </tbody>\n</table>\n</div>"
     },
     "execution_count": 35,
     "metadata": {},
     "output_type": "execute_result"
    }
   ],
   "source": [
    "# your code goes here\n",
    "marvel_df.describe()"
   ]
  },
  {
   "cell_type": "markdown",
   "metadata": {
    "pycharm": {
     "name": "#%% md\n"
    }
   },
   "source": [
    "![green-divider](https://user-images.githubusercontent.com/7065401/52071924-c003ad80-2562-11e9-8297-1c6595f8a7ff.png)\n",
    "\n",
    "### Given the `marvel_df` pandas DataFrame, show the mean value of `first_appearance`"
   ]
  },
  {
   "cell_type": "code",
   "execution_count": 36,
   "metadata": {
    "pycharm": {
     "name": "#%%\n"
    }
   },
   "outputs": [
    {
     "data": {
      "text/plain": "1962.888888888889"
     },
     "execution_count": 36,
     "metadata": {},
     "output_type": "execute_result"
    }
   ],
   "source": [
    "# your code goes here\n",
    "marvel_df['first_appearance'].mean()"
   ]
  },
  {
   "cell_type": "markdown",
   "metadata": {
    "pycharm": {
     "name": "#%% md\n"
    }
   },
   "source": [
    "![green-divider](https://user-images.githubusercontent.com/7065401/52071924-c003ad80-2562-11e9-8297-1c6595f8a7ff.png)\n",
    "\n",
    "### Given the `marvel_df` pandas DataFrame, show the min value of `first_appearance`\n"
   ]
  },
  {
   "cell_type": "code",
   "execution_count": 37,
   "metadata": {
    "pycharm": {
     "name": "#%%\n"
    }
   },
   "outputs": [
    {
     "data": {
      "text/plain": "1941"
     },
     "execution_count": 37,
     "metadata": {},
     "output_type": "execute_result"
    }
   ],
   "source": [
    "# your code goes here\n",
    "marvel_df['first_appearance'].min()"
   ]
  },
  {
   "cell_type": "markdown",
   "metadata": {
    "pycharm": {
     "name": "#%% md\n"
    }
   },
   "source": [
    "![green-divider](https://user-images.githubusercontent.com/7065401/52071924-c003ad80-2562-11e9-8297-1c6595f8a7ff.png)\n",
    "\n",
    "### Given the `marvel_df` pandas DataFrame, get the characters with the min value of `first_appearance`"
   ]
  },
  {
   "cell_type": "code",
   "execution_count": 38,
   "metadata": {
    "pycharm": {
     "name": "#%%\n"
    }
   },
   "outputs": [
    {
     "data": {
      "text/plain": "                  sex  first_appearance  years_since\nname                                                \nCaptain America  male              1941           82",
      "text/html": "<div>\n<style scoped>\n    .dataframe tbody tr th:only-of-type {\n        vertical-align: middle;\n    }\n\n    .dataframe tbody tr th {\n        vertical-align: top;\n    }\n\n    .dataframe thead th {\n        text-align: right;\n    }\n</style>\n<table border=\"1\" class=\"dataframe\">\n  <thead>\n    <tr style=\"text-align: right;\">\n      <th></th>\n      <th>sex</th>\n      <th>first_appearance</th>\n      <th>years_since</th>\n    </tr>\n    <tr>\n      <th>name</th>\n      <th></th>\n      <th></th>\n      <th></th>\n    </tr>\n  </thead>\n  <tbody>\n    <tr>\n      <th>Captain America</th>\n      <td>male</td>\n      <td>1941</td>\n      <td>82</td>\n    </tr>\n  </tbody>\n</table>\n</div>"
     },
     "execution_count": 38,
     "metadata": {},
     "output_type": "execute_result"
    }
   ],
   "source": [
    "# your code goes here\n",
    "marvel_df[marvel_df['first_appearance'] == marvel_df['first_appearance'].min()]"
   ]
  },
  {
   "cell_type": "markdown",
   "metadata": {
    "pycharm": {
     "name": "#%% md\n"
    }
   },
   "source": [
    "![purple-divider](https://user-images.githubusercontent.com/7065401/52071927-c1cd7100-2562-11e9-908a-dde91ba14e59.png)\n",
    "\n",
    "## DataFrame basic plottings"
   ]
  },
  {
   "cell_type": "markdown",
   "metadata": {
    "pycharm": {
     "name": "#%% md\n"
    }
   },
   "source": [
    "### Reset index names of `marvel_df`\n"
   ]
  },
  {
   "cell_type": "code",
   "execution_count": 40,
   "metadata": {
    "pycharm": {
     "name": "#%%\n"
    }
   },
   "outputs": [],
   "source": [
    "# your code goes here\n",
    "marvel_df.reset_index(inplace=True)"
   ]
  },
  {
   "cell_type": "markdown",
   "metadata": {
    "pycharm": {
     "name": "#%% md\n"
    }
   },
   "source": [
    "![green-divider](https://user-images.githubusercontent.com/7065401/52071924-c003ad80-2562-11e9-8297-1c6595f8a7ff.png)\n",
    "\n",
    "### Plot the values of `first_appearance`\n"
   ]
  },
  {
   "cell_type": "code",
   "execution_count": 44,
   "metadata": {
    "pycharm": {
     "name": "#%%\n"
    }
   },
   "outputs": [
    {
     "data": {
      "text/plain": "<AxesSubplot:ylabel='Frequency'>"
     },
     "execution_count": 44,
     "metadata": {},
     "output_type": "execute_result"
    },
    {
     "data": {
      "text/plain": "<Figure size 432x288 with 1 Axes>",
      "image/png": "[encoded data removed]"
     },
     "metadata": {
      "needs_background": "light"
     },
     "output_type": "display_data"
    }
   ],
   "source": [
    "# your code goes here\n",
    "marvel_df['first_appearance'].plot(kind='hist')"
   ]
  },
  {
   "cell_type": "markdown",
   "metadata": {
    "pycharm": {
     "name": "#%% md\n"
    }
   },
   "source": [
    "![green-divider](https://user-images.githubusercontent.com/7065401/52071924-c003ad80-2562-11e9-8297-1c6595f8a7ff.png)\n",
    "\n",
    "### Plot a histogram (plot.hist) with values of `first_appearance`\n"
   ]
  },
  {
   "cell_type": "code",
   "execution_count": 42,
   "metadata": {
    "pycharm": {
     "name": "#%%\n"
    }
   },
   "outputs": [
    {
     "data": {
      "text/plain": "(array([ 1.,  0.,  0.,  0.,  0.,  3., 12.,  0.,  0.,  2.]),\n array([1941. , 1944.4, 1947.8, 1951.2, 1954.6, 1958. , 1961.4, 1964.8,\n        1968.2, 1971.6, 1975. ]),\n <BarContainer object of 10 artists>)"
     },
     "execution_count": 42,
     "metadata": {},
     "output_type": "execute_result"
    },
    {
     "data": {
      "text/plain": "<Figure size 432x288 with 1 Axes>",
      "image/png": "[encoded data removed]"
     },
     "metadata": {
      "needs_background": "light"
     },
     "output_type": "display_data"
    }
   ],
   "source": [
    "# your code goes here\n",
    "plt.hist(marvel_df['first_appearance'])"
   ]
  },
  {
   "cell_type": "markdown",
   "metadata": {
    "pycharm": {
     "name": "#%% md\n"
    }
   },
   "source": [
    "![purple-divider](https://user-images.githubusercontent.com/7065401/52071927-c1cd7100-2562-11e9-908a-dde91ba14e59.png)\n"
   ]
  }
 ],
 "metadata": {
  "kernelspec": {
   "display_name": "Python 3",
   "language": "python",
   "name": "python3"
  },
  "language_info": {
   "codemirror_mode": {
    "name": "ipython",
    "version": 3
   },
   "file_extension": ".py",
   "mimetype": "text/x-python",
   "name": "python",
   "nbconvert_exporter": "python",
   "pygments_lexer": "ipython3",
   "version": "3.8.1"
  }
 },
 "nbformat": 4,
 "nbformat_minor": 4
}